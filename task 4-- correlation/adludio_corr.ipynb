{
  "nbformat": 4,
  "nbformat_minor": 0,
  "metadata": {
    "colab": {
      "name": "adludio_corr",
      "provenance": [],
      "collapsed_sections": []
    },
    "kernelspec": {
      "name": "python3",
      "display_name": "Python 3"
    }
  },
  "cells": [
    {
      "cell_type": "markdown",
      "metadata": {
        "id": "qorZAKOXjhL6"
      },
      "source": [
        "#### Libraries"
      ]
    },
    {
      "cell_type": "code",
      "metadata": {
        "id": "PQfMml4qCg2R"
      },
      "source": [
        "import pandas as pd\n",
        "import numpy as np\n",
        "import json\n",
        "import matplotlib.pyplot as plt\n",
        "import seaborn as sns\n",
        "from sklearn.preprocessing import LabelEncoder\n",
        "\n",
        "import warnings\n",
        "warnings.filterwarnings(action=\"ignore\")"
      ],
      "execution_count": 1,
      "outputs": []
    },
    {
      "cell_type": "markdown",
      "metadata": {
        "id": "-k__MavUjj4X"
      },
      "source": [
        "#### Loading dataset and Looking into Correlations"
      ]
    },
    {
      "cell_type": "code",
      "metadata": {
        "id": "9IwXb8DvF0qI"
      },
      "source": [
        "class Correlation:\n",
        "\n",
        "    def __init__(self, path):  \n",
        "        self.path = path \n",
        "         \n",
        "    # load dataset and create the ctr column\n",
        "    def get_data(self):\n",
        "        data = pd.read_csv(self.path)\n",
        "        print('org shape:', data.shape)\n",
        "        # ctr\n",
        "        ''' click_through_rates = click-through-event/first_dropped'''\n",
        "        data['ctr'] = data['click-through-event']/data['first_dropped']\n",
        "        print('new shape:', data.shape)\n",
        "        # print(data.info)\n",
        "        return data\n",
        "\n",
        "    # get features most correlated with ctr\n",
        "    def correlation_map(self, f_data, f_feature, f_number):\n",
        "        f_most_correlated = f_data.corr().nlargest(f_number,f_feature)[f_feature].index\n",
        "        f_correlation = f_data[f_most_correlated].corr()\n",
        "        \n",
        "        f_mask = np.zeros_like(f_correlation)\n",
        "        f_mask[np.triu_indices_from(f_mask)] = True\n",
        "        with sns.axes_style(\"white\"):\n",
        "            f_fig, f_ax = plt.subplots(figsize=(6, 4))\n",
        "            f_ax = sns.heatmap(f_correlation, mask=f_mask, vmin=0, vmax=1, square=True,\n",
        "                            annot=True, annot_kws={\"size\": 10}, cmap=\"BuPu\")\n",
        "\n",
        "        plt.show()\n",
        "\n",
        "    # correlation with the 3 categorical features: region, vertical and season\n",
        "    '''Since we're not gonna do any modeling, we just use label encoding'''\n",
        "    def specialised_corr(self, data, feature1, feature2, feature3, target):\n",
        "        global df\n",
        "        df = data[[feature1, feature2, feature3, target]]\n",
        "        encoder = LabelEncoder()\n",
        "        for col in [feature1, feature2, feature3]:\n",
        "            df[col] = encoder.fit_transform(df[col])\n",
        "\n",
        "        # encoded_df = pd.DataFrame(encoded_df, columns = df.columns)\n",
        "        corr = df.corr()\n",
        "        print(corr)\n",
        "        plt.figure(figsize = (6,4))\n",
        "        sns.heatmap(corr, cmap = 'BuPu')\n",
        "        plt.show()"
      ],
      "execution_count": 2,
      "outputs": []
    },
    {
      "cell_type": "code",
      "metadata": {
        "colab": {
          "base_uri": "https://localhost:8080/",
          "height": 296
        },
        "id": "yzYdpFj8cGhE",
        "outputId": "3f975fac-ffd4-4df2-8672-a68d0f7b6add"
      },
      "source": [
        "ctr = Correlation('/content/dataset.csv')\n",
        "data = ctr.get_data()\n",
        "data.head()"
      ],
      "execution_count": 3,
      "outputs": [
        {
          "output_type": "stream",
          "text": [
            "org shape: (3272, 8)\n",
            "new shape: (3272, 9)\n"
          ],
          "name": "stdout"
        },
        {
          "output_type": "execute_result",
          "data": {
            "text/html": [
              "<div>\n",
              "<style scoped>\n",
              "    .dataframe tbody tr th:only-of-type {\n",
              "        vertical-align: middle;\n",
              "    }\n",
              "\n",
              "    .dataframe tbody tr th {\n",
              "        vertical-align: top;\n",
              "    }\n",
              "\n",
              "    .dataframe thead th {\n",
              "        text-align: right;\n",
              "    }\n",
              "</style>\n",
              "<table border=\"1\" class=\"dataframe\">\n",
              "  <thead>\n",
              "    <tr style=\"text-align: right;\">\n",
              "      <th></th>\n",
              "      <th>first_key</th>\n",
              "      <th>version</th>\n",
              "      <th>region</th>\n",
              "      <th>season</th>\n",
              "      <th>vertical</th>\n",
              "      <th>click-through-event</th>\n",
              "      <th>first_dropped</th>\n",
              "      <th>impression</th>\n",
              "      <th>ctr</th>\n",
              "    </tr>\n",
              "  </thead>\n",
              "  <tbody>\n",
              "    <tr>\n",
              "      <th>0</th>\n",
              "      <td>00713d76908caaf66ef14688fe8229dd</td>\n",
              "      <td>5fa282721f46ca2dfabd</td>\n",
              "      <td>Asia</td>\n",
              "      <td>Autumn</td>\n",
              "      <td>Uncategorized</td>\n",
              "      <td>0.0</td>\n",
              "      <td>1.0</td>\n",
              "      <td>1.0</td>\n",
              "      <td>0.000000</td>\n",
              "    </tr>\n",
              "    <tr>\n",
              "      <th>1</th>\n",
              "      <td>015efcdd8de3698ffc4dad6dabd6664a</td>\n",
              "      <td>142dcad593832d3d624d</td>\n",
              "      <td>Uncategorized</td>\n",
              "      <td>Spring</td>\n",
              "      <td>Food &amp; Drinks</td>\n",
              "      <td>1568.0</td>\n",
              "      <td>23607.0</td>\n",
              "      <td>54873.0</td>\n",
              "      <td>0.066421</td>\n",
              "    </tr>\n",
              "    <tr>\n",
              "      <th>2</th>\n",
              "      <td>015efcdd8de3698ffc4dad6dabd6664a</td>\n",
              "      <td>142dcad593832d3d624d</td>\n",
              "      <td>Uncategorized</td>\n",
              "      <td>Spring</td>\n",
              "      <td>Uncategorized</td>\n",
              "      <td>0.0</td>\n",
              "      <td>6.0</td>\n",
              "      <td>26.0</td>\n",
              "      <td>0.000000</td>\n",
              "    </tr>\n",
              "    <tr>\n",
              "      <th>3</th>\n",
              "      <td>015efcdd8de3698ffc4dad6dabd6664a</td>\n",
              "      <td>142dcad593832d3d624d</td>\n",
              "      <td>Uncategorized</td>\n",
              "      <td>Summer</td>\n",
              "      <td>Food &amp; Drinks</td>\n",
              "      <td>0.0</td>\n",
              "      <td>0.0</td>\n",
              "      <td>6.0</td>\n",
              "      <td>NaN</td>\n",
              "    </tr>\n",
              "    <tr>\n",
              "      <th>4</th>\n",
              "      <td>015efcdd8de3698ffc4dad6dabd6664a</td>\n",
              "      <td>142dcad593832d3d624d</td>\n",
              "      <td>Uncategorized</td>\n",
              "      <td>Summer</td>\n",
              "      <td>Uncategorized</td>\n",
              "      <td>0.0</td>\n",
              "      <td>31.0</td>\n",
              "      <td>85.0</td>\n",
              "      <td>0.000000</td>\n",
              "    </tr>\n",
              "  </tbody>\n",
              "</table>\n",
              "</div>"
            ],
            "text/plain": [
              "                          first_key               version  ... impression       ctr\n",
              "0  00713d76908caaf66ef14688fe8229dd  5fa282721f46ca2dfabd  ...        1.0  0.000000\n",
              "1  015efcdd8de3698ffc4dad6dabd6664a  142dcad593832d3d624d  ...    54873.0  0.066421\n",
              "2  015efcdd8de3698ffc4dad6dabd6664a  142dcad593832d3d624d  ...       26.0  0.000000\n",
              "3  015efcdd8de3698ffc4dad6dabd6664a  142dcad593832d3d624d  ...        6.0       NaN\n",
              "4  015efcdd8de3698ffc4dad6dabd6664a  142dcad593832d3d624d  ...       85.0  0.000000\n",
              "\n",
              "[5 rows x 9 columns]"
            ]
          },
          "metadata": {
            "tags": []
          },
          "execution_count": 3
        }
      ]
    },
    {
      "cell_type": "code",
      "metadata": {
        "colab": {
          "base_uri": "https://localhost:8080/",
          "height": 357
        },
        "id": "6CY3Ed2ocWVU",
        "outputId": "62b14a10-b350-42ca-dfea-a68a27bc47f5"
      },
      "source": [
        "# only 3 numerical features other than ctr. (kinda makes the last function useless)\n",
        "ctr.correlation_map(data, 'ctr', 4)"
      ],
      "execution_count": 8,
      "outputs": [
        {
          "output_type": "display_data",
          "data": {
            "image/png": "[encoded data removed]",
            "text/plain": [
              "<Figure size 432x288 with 2 Axes>"
            ]
          },
          "metadata": {
            "tags": []
          }
        }
      ]
    },
    {
      "cell_type": "markdown",
      "metadata": {
        "id": "LSqkqiipedTa"
      },
      "source": [
        "The correlations are really low. the highest being .16 with **click-through_event**."
      ]
    },
    {
      "cell_type": "code",
      "metadata": {
        "colab": {
          "base_uri": "https://localhost:8080/",
          "height": 356
        },
        "id": "qJWQQn71edAf",
        "outputId": "d9abbf44-dd9f-4ceb-92b6-ad4a4951d607"
      },
      "source": [
        "ctr.specialised_corr(data, 'region', 'vertical', 'season', 'ctr')"
      ],
      "execution_count": 5,
      "outputs": [
        {
          "output_type": "stream",
          "text": [
            "            region  vertical    season       ctr\n",
            "region    1.000000 -0.201783  0.164563 -0.073683\n",
            "vertical -0.201783  1.000000 -0.039236  0.049980\n",
            "season    0.164563 -0.039236  1.000000  0.033611\n",
            "ctr      -0.073683  0.049980  0.033611  1.000000\n"
          ],
          "name": "stdout"
        },
        {
          "output_type": "display_data",
          "data": {
            "image/png": "[encoded data removed]",
            "text/plain": [
              "<Figure size 432x288 with 2 Axes>"
            ]
          },
          "metadata": {
            "tags": [],
            "needs_background": "light"
          }
        }
      ]
    },
    {
      "cell_type": "markdown",
      "metadata": {
        "id": "xGsJvXSKgvqN"
      },
      "source": [
        "They all have low to no correlation with click-through-rates.\n",
        "But since region has the highest -ve correlation, lets look into it.\n"
      ]
    },
    {
      "cell_type": "code",
      "metadata": {
        "colab": {
          "base_uri": "https://localhost:8080/",
          "height": 296
        },
        "id": "zMmsYwW6hObe",
        "outputId": "16a93d17-f6ba-4a31-840f-15bac217c8f5"
      },
      "source": [
        "sns.scatterplot(y = df['ctr'], x = df['season'])"
      ],
      "execution_count": 6,
      "outputs": [
        {
          "output_type": "execute_result",
          "data": {
            "text/plain": [
              "<matplotlib.axes._subplots.AxesSubplot at 0x7fda7a734e10>"
            ]
          },
          "metadata": {
            "tags": []
          },
          "execution_count": 6
        },
        {
          "output_type": "display_data",
          "data": {
            "image/png": "[encoded data removed]",
            "text/plain": [
              "<Figure size 432x288 with 1 Axes>"
            ]
          },
          "metadata": {
            "tags": [],
            "needs_background": "light"
          }
        }
      ]
    },
    {
      "cell_type": "markdown",
      "metadata": {
        "id": "rWyx993Jixnp"
      },
      "source": [
        "Not even visible on a plot."
      ]
    }
  ]
}